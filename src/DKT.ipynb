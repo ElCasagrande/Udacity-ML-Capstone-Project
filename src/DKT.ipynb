{
 "cells": [
  {
   "cell_type": "markdown",
   "metadata": {},
   "source": [
    "# Udacity - Machine Learning Engineer Nanodegree\n",
    "## Capstone Project\n",
    "### Title: Development of a LSTM Network to Predict Students’ Answers on Exam Questions"
   ]
  },
  {
   "cell_type": "markdown",
   "metadata": {},
   "source": [
    "### Implementation of DKT:\n",
    "#### Part 1: Define constants"
   ]
  },
  {
   "cell_type": "code",
   "execution_count": 9,
   "metadata": {},
   "outputs": [],
   "source": [
    "dataset = \"data/ASSISTments_skill_builder_data.csv\" # Dataset path\n",
    "best_model_file = \"saved_models/ASSISTments.best.model.weights.hdf5\" # File to save the model.\n",
    "train_log = \"logs/dktmodel.train.log\" # File to save the training log.\n",
    "eval_log = \"logs/dktmodel.eval.log\" # File to save the testing log.\n",
    "optimizer = \"adagrad\" # Optimizer to use\n",
    "lstm_units = 250 # Number of LSTM units\n",
    "batch_size = 20 # Batch size\n",
    "epochs = 10 # Number of epochs to train\n",
    "dropout_rate = 0.6 # Dropout rate\n",
    "verbose = 1 # Verbose = {0,1,2}\n",
    "testing_rate = 0.2 # Portion of data to be used for testing\n",
    "validation_rate = 0.2 # Portion of training data to be used for validation"
   ]
  },
  {
   "cell_type": "markdown",
   "metadata": {},
   "source": [
    "#### Part 2: Pre-processing"
   ]
  },
  {
   "cell_type": "code",
   "execution_count": null,
   "metadata": {},
   "outputs": [],
   "source": [
    "from Utils import *\n",
    "\n",
    "dataset, num_skills = read_file(dataset)\n",
    "X_train, X_val, X_test, y_train, y_val, y_test = split_dataset(dataset, validation_rate, testing_rate)\n",
    "\n",
    "print(\"======== Data Summary ========\")\n",
    "print(\"Data size: %d\" % len(dataset))\n",
    "print(\"Training data size: %d\" % len(X_train))\n",
    "print(\"Validation data size: %d\" % len(X_val))\n",
    "print(\"Testing data size: %d\" % len(X_test))\n",
    "print(\"Number of skills: %d\" % num_skills)\n",
    "print(\"==============================\")"
   ]
  },
  {
   "cell_type": "markdown",
   "metadata": {},
   "source": [
    "#### Part 3: Building the model"
   ]
  },
  {
   "cell_type": "code",
   "execution_count": 11,
   "metadata": {},
   "outputs": [],
   "source": [
    "from StudentModel import DKTModel, DataGenerator\n",
    "\n",
    "# Create generators for training/testing/validation\n",
    "train_gen = DataGenerator(X_train[0:10], y_train[0:10], num_skills, batch_size)\n",
    "val_gen = DataGenerator(X_val[0:10], y_val[0:10], num_skills, batch_size)\n",
    "test_gen = DataGenerator(X_test[0:10], y_test[0:10], num_skills, batch_size)\n",
    "\n",
    "# Create model\n",
    "student_model = DKTModel(num_skills=train_gen.num_skills,\n",
    "                      num_features=train_gen.feature_dim,\n",
    "                      optimizer=optimizer,\n",
    "                      hidden_units=lstm_units,\n",
    "                      batch_size=batch_size,\n",
    "                      dropout_rate=dropout_rate)"
   ]
  },
  {
   "cell_type": "markdown",
   "metadata": {
    "collapsed": true
   },
   "source": [
    "#### Part 4: Train the Model"
   ]
  },
  {
   "cell_type": "code",
   "execution_count": null,
   "metadata": {},
   "outputs": [],
   "source": [
    "history = student_model.fit(train_gen,\n",
    "                  epochs=epochs,\n",
    "                  val_gen=val_gen,\n",
    "                  verbose=verbose,\n",
    "                  filepath_bestmodel=best_model_file,\n",
    "                  filepath_log=train_log)"
   ]
  },
  {
   "cell_type": "markdown",
   "metadata": {},
   "source": [
    "#### Part 5: Load the Model with the Best Validation Loss"
   ]
  },
  {
   "cell_type": "code",
   "execution_count": 13,
   "metadata": {},
   "outputs": [],
   "source": [
    "student_model.load_weights(best_model_file)"
   ]
  },
  {
   "cell_type": "markdown",
   "metadata": {},
   "source": [
    "#### Part 6: Test the Model"
   ]
  },
  {
   "cell_type": "code",
   "execution_count": null,
   "metadata": {},
   "outputs": [],
   "source": [
    "result = student_model.evaluate(test_gen, metrics=['auc','acc','pre'], verbose=verbose, filepath_log=eval_log)"
   ]
  }
 ],
 "metadata": {
  "kernelspec": {
   "display_name": "Python 3 (capstone-project)",
   "language": "python",
   "name": "capstone-project"
  },
  "language_info": {
   "codemirror_mode": {
    "name": "ipython",
    "version": 3
   },
   "file_extension": ".py",
   "mimetype": "text/x-python",
   "name": "python",
   "nbconvert_exporter": "python",
   "pygments_lexer": "ipython3",
   "version": "3.5.4"
  }
 },
 "nbformat": 4,
 "nbformat_minor": 2
}
